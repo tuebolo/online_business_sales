{
 "cells": [
  {
   "cell_type": "code",
   "execution_count": 2,
   "metadata": {},
   "outputs": [],
   "source": [
    "# Import packages\n",
    "import pandas as pd"
   ]
  },
  {
   "cell_type": "markdown",
   "metadata": {},
   "source": [
    "# Data exploration"
   ]
  },
  {
   "cell_type": "code",
   "execution_count": 5,
   "metadata": {},
   "outputs": [],
   "source": [
    "# Load data\n",
    "sales = pd.read_csv('data/business.retailsales.csv')\n",
    "sales2 = pd.read_csv('data/business.retailsales2.csv')"
   ]
  },
  {
   "cell_type": "code",
   "execution_count": 18,
   "metadata": {},
   "outputs": [
    {
     "name": "stdout",
     "output_type": "stream",
     "text": [
      "         Product_Type  Net_Quantity  Gross_Sales  Discounts  Returns  \\\n",
      "0     Art_&_Sculpture            34      14935.0    -594.00 -1609.00   \n",
      "1              Basket            13       3744.0    -316.80     0.00   \n",
      "2              Basket            12       3825.0    -201.60  -288.00   \n",
      "3              Basket            17       3035.0     -63.25     0.00   \n",
      "4     Art_&_Sculpture            47       2696.8     -44.16     0.00   \n",
      "...               ...           ...          ...        ...      ...   \n",
      "1770          Kitchen             0         28.0      -2.81   -25.19   \n",
      "1771          Jewelry             0         28.0       0.00   -28.00   \n",
      "1772           Basket             0        116.0     -23.20   -92.80   \n",
      "1773          Kitchen             0         16.5       0.00   -16.50   \n",
      "1774          Kitchen            -1          0.0       0.00  -106.25   \n",
      "\n",
      "      Total_Net_Sales  \n",
      "0            12732.00  \n",
      "1             3427.20  \n",
      "2             3335.40  \n",
      "3             2971.75  \n",
      "4             2652.64  \n",
      "...               ...  \n",
      "1770             0.00  \n",
      "1771             0.00  \n",
      "1772             0.00  \n",
      "1773             0.00  \n",
      "1774          -106.25  \n",
      "\n",
      "[1775 rows x 6 columns]\n"
     ]
    }
   ],
   "source": [
    "# View data from business.retails.csv\n",
    "print(sales)\n",
    "# There are 1774 product entries with net quatity sold, gross sales, discounts and returns\n",
    "\n",
    "# rename the columns to exlude spaces\n",
    "sales.columns = sales.columns.str.replace(' ', '_')\n",
    "\n",
    "# rename the product type values to exclude spaces\n",
    "sales['Product_Type'] = sales['Product_Type'].str.strip()"
   ]
  },
  {
   "cell_type": "code",
   "execution_count": 44,
   "metadata": {},
   "outputs": [
    {
     "name": "stdout",
     "output_type": "stream",
     "text": [
      "    Discounts  Gross_Sales  Net_Quantity   Returns  Total_Net_Sales  \\\n",
      "0   -8.770979   268.001780      4.234421 -8.545786       250.685015   \n",
      "1   -8.320181   261.008167      2.651543 -8.057514       244.630472   \n",
      "2   -4.728630   212.000000      7.876712 -9.178082       198.093288   \n",
      "3   -7.566489   206.981298      3.083969 -3.231679       196.183130   \n",
      "4   -3.853913   164.904348      4.304348  0.000000       161.050435   \n",
      "5   -4.599286   147.847619      4.719048 -2.424762       140.823571   \n",
      "6   -3.427273   237.227273      9.181818  0.000000       233.800000   \n",
      "7   -2.677702    99.975155      5.024845 -2.037702        95.259752   \n",
      "8   -8.064286   134.928571      3.071429 -6.928571       119.935714   \n",
      "9   -2.744103    99.805128      2.153846  0.000000        97.061026   \n",
      "10  -1.904643    80.642857      3.928571  0.000000        78.738214   \n",
      "11  -5.999167   181.666667      1.000000  0.000000       175.667500   \n",
      "12  -1.446418    71.574627      2.970149 -1.037313        69.090896   \n",
      "13  -2.834138    91.155172      3.379310 -4.910690        83.410345   \n",
      "14 -10.565000   127.125000      1.687500  0.000000       116.560000   \n",
      "15  -1.851746    60.920635      2.222222  0.000000        59.068889   \n",
      "17  -3.800000    38.000000      1.000000  0.000000        34.200000   \n",
      "18   0.000000    19.500000      1.000000  0.000000        19.500000   \n",
      "\n",
      "        Product_Type  \n",
      "0    Art_&_Sculpture  \n",
      "1             Basket  \n",
      "2          Christmas  \n",
      "3         Home_Decor  \n",
      "4       Recycled_Art  \n",
      "5            Jewelry  \n",
      "6          Skin_Care  \n",
      "7            Kitchen  \n",
      "8           Textiles  \n",
      "9        Accessories  \n",
      "10  Fair_Trade_Gifts  \n",
      "11     One-of-a-Kind  \n",
      "12         Soapstone  \n",
      "13             Music  \n",
      "14         Furniture  \n",
      "15              Kids  \n",
      "17            Easter  \n",
      "18      Gift_Baskets  \n"
     ]
    },
    {
     "data": {
      "text/plain": [
       "<AxesSubplot:xlabel='Product_Type'>"
      ]
     },
     "execution_count": 44,
     "metadata": {},
     "output_type": "execute_result"
    },
    {
     "data": {
      "image/png": "[encoded data removed]",
      "text/plain": [
       "<Figure size 432x288 with 1 Axes>"
      ]
     },
     "metadata": {
      "needs_background": "light"
     },
     "output_type": "display_data"
    }
   ],
   "source": [
    "# plot a bar graph with the average total net sales for each product type \n",
    "\n",
    "# make a table with average gross sales for each product \n",
    "\n",
    "# Gather list of all products\n",
    "products = sales.Product_Type.unique()\n",
    "\n",
    "# Get average column value for each product\n",
    "df = pd.DataFrame()\n",
    "for i in range(len(products)):\n",
    "    p = sales.loc[sales['Product_Type'] == products[i]].mean()\n",
    "    df = df.append(p, ignore_index=True)\n",
    "# add product names to dataframe\n",
    "df.Product_Type = products\n",
    "\n",
    "# Remove the NAN row\n",
    "df = df.dropna()\n",
    "print(df)\n",
    "\n",
    "# plot bar graph\n",
    "df.plot.bar(x='Product_Type', y='Total_Net_Sales')"
   ]
  },
  {
   "cell_type": "code",
   "execution_count": 7,
   "metadata": {},
   "outputs": [
    {
     "name": "stdout",
     "output_type": "stream",
     "text": [
      "        Month  Year  Total Orders  Gross Sales  Discounts  Returns  Net Sales  \\\n",
      "0     January  2017            73      8861.50    -129.40  -448.45    8283.65   \n",
      "1    February  2017            56      6908.50    -104.70  -416.20    6387.60   \n",
      "2       March  2017            60      5778.50    -172.20 -1017.20    4589.10   \n",
      "3       April  2017            70      8814.00    -281.40     0.00    8532.60   \n",
      "4         May  2017            54      6677.00    -185.75  -253.80    6237.45   \n",
      "5        June  2017            68      9621.50    -234.45   -17.50    9369.55   \n",
      "6        July  2017            66      6480.00     -51.50  -469.20    5959.30   \n",
      "7      August  2017            55      8025.00    -258.90   -26.00    7740.10   \n",
      "8   September  2017            68      7075.00     -61.70  -281.00    6732.30   \n",
      "9     October  2017            59      5720.00     -88.00  -305.00    5327.00   \n",
      "10   November  2017            91     13025.00    -131.30  -323.85   12569.85   \n",
      "11   December  2017           116     10356.05    -149.85  -414.20    9792.00   \n",
      "12    January  2018            83      8923.00    -217.10   -26.25    8679.65   \n",
      "13   February  2018            69      6529.20    -161.35  -118.15    6249.70   \n",
      "14      March  2018            64      7442.70    -226.82    -8.80    7207.08   \n",
      "15      April  2018            81      9406.35    -232.28   -40.00    9134.07   \n",
      "16        May  2018            82      7493.90    -221.25 -1448.02    5824.63   \n",
      "17       June  2018           124     13260.80    -335.40 -1506.53   11418.87   \n",
      "18       July  2018           102      9274.95    -237.87  -689.98    8347.10   \n",
      "19     August  2018            82      7698.70    -140.57  -197.35    7360.78   \n",
      "20  September  2018            79     10582.85    -276.15     0.00   10306.70   \n",
      "21    October  2018            71      7014.50    -277.95  -294.75    6441.80   \n",
      "22   November  2018           140     12002.70    -414.45  -154.40   11433.85   \n",
      "23   December  2018           164     13683.50    -371.20  -928.35   12383.95   \n",
      "24    January  2019            87      7811.75    -261.97 -1250.35    6299.43   \n",
      "25   February  2019            63      6523.70    -288.70   -38.70    6196.30   \n",
      "26      March  2019            99     13075.50    -439.85  -981.00   11654.65   \n",
      "27      April  2019            92      6977.00    -285.40   -10.00    6681.60   \n",
      "28        May  2019            96     10082.25    -460.90  -173.35    9448.00   \n",
      "29       June  2019            85      7321.75    -186.02  -165.40    6970.33   \n",
      "30       July  2019            94      9739.20    -447.07  -908.75    8383.38   \n",
      "31     August  2019           105      8839.50    -201.67   -84.37    8553.46   \n",
      "32  September  2019            88      9077.45    -354.89  -853.35    7869.21   \n",
      "33    October  2019            97      9132.25    -279.42 -1572.55    7280.28   \n",
      "34   November  2019           272     23997.90    -776.84  -364.51   22856.55   \n",
      "35   December  2019           342     31183.90   -2269.51 -1311.18   27603.21   \n",
      "\n",
      "    Shipping  Total Sales  \n",
      "0    1088.30      9371.95  \n",
      "1     892.45      7280.05  \n",
      "2     707.43      5296.53  \n",
      "3    1068.30      9600.90  \n",
      "4     866.46      7103.91  \n",
      "5    1204.32     10573.87  \n",
      "6     807.36      6766.66  \n",
      "7     843.46      8583.56  \n",
      "8     907.32      7639.62  \n",
      "9     695.42      6022.42  \n",
      "10   1555.10     14124.95  \n",
      "11   1340.85     11132.85  \n",
      "12   1180.18      9859.83  \n",
      "13    908.91      7158.61  \n",
      "14   1226.92      8434.00  \n",
      "15   1387.56     10521.63  \n",
      "16   1234.95      7059.58  \n",
      "17   2124.49     13543.36  \n",
      "18   1627.03      9974.13  \n",
      "19   1404.03      8764.81  \n",
      "20   1634.33     11941.03  \n",
      "21   1262.45      7704.25  \n",
      "22   2237.05     13670.90  \n",
      "23   2552.20     14936.15  \n",
      "24   1313.78      7615.91  \n",
      "25   1121.85      7318.15  \n",
      "26   2115.10     13769.75  \n",
      "27   1342.45      8024.05  \n",
      "28   1768.20     11216.20  \n",
      "29   1356.80      8327.13  \n",
      "30   1631.40     10014.78  \n",
      "31   1724.75     10278.21  \n",
      "32   1567.65      9436.86  \n",
      "33   1631.25      8911.53  \n",
      "34   4824.75     27681.30  \n",
      "35   5703.25     33306.46  \n"
     ]
    }
   ],
   "source": [
    "# View data from business.retails2.csv\n",
    "print(sales2)\n",
    "# There are 35 datapoints showing orders, gross sales, net sales, discounts and returns from Janury 2017 through to december 2019"
   ]
  },
  {
   "cell_type": "markdown",
   "metadata": {},
   "source": [
    "# Projections for Q4 of 2020 (oct-dec)"
   ]
  },
  {
   "cell_type": "markdown",
   "metadata": {},
   "source": [
    "## List of sales per item for Q4"
   ]
  },
  {
   "cell_type": "code",
   "execution_count": null,
   "metadata": {},
   "outputs": [],
   "source": []
  }
 ],
 "metadata": {
  "kernelspec": {
   "display_name": "Python 3",
   "language": "python",
   "name": "python3"
  },
  "language_info": {
   "codemirror_mode": {
    "name": "ipython",
    "version": 3
   },
   "file_extension": ".py",
   "mimetype": "text/x-python",
   "name": "python",
   "nbconvert_exporter": "python",
   "pygments_lexer": "ipython3",
   "version": "3.9.4"
  }
 },
 "nbformat": 4,
 "nbformat_minor": 4
}
